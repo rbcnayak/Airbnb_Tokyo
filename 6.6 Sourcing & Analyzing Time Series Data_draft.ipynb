{
 "cells": [
  {
   "cell_type": "markdown",
   "id": "275be47c",
   "metadata": {},
   "source": [
    "## 6.6 Sourcing & Analyzing Time Series Data"
   ]
  },
  {
   "cell_type": "markdown",
   "id": "ec5e29fd",
   "metadata": {},
   "source": [
    "#### Contents:\n",
    "1. Import libraries\n",
    "2. Import data\n",
    "3. Subsetting, wrangling, and cleaning time-series data¶\n",
    "4. Time-series analysis: decomposition\n",
    "5. Stationarizing the Consumer Price Index"
   ]
  },
  {
   "cell_type": "markdown",
   "id": "cda1a6d3",
   "metadata": {},
   "source": [
    "#### 1. Import libraries"
   ]
  },
  {
   "cell_type": "code",
   "execution_count": 417,
   "id": "65d185ef",
   "metadata": {},
   "outputs": [],
   "source": [
    "import quandl\n",
    "import pandas as pd\n",
    "from datetime import datetime\n",
    "import numpy as np\n",
    "import seaborn as sns\n",
    "import matplotlib\n",
    "import matplotlib.pyplot as plt\n",
    "import statsmodels.api as sm # Using .api imports the public access version of statsmodels, which is a library that handles \n",
    "# statistical models.\n",
    "from statsmodels.graphics.tsaplots import plot_acf\n",
    "import os\n",
    "import warnings # This is a library that handles warnings.\n",
    "warnings.filterwarnings(\"ignore\") # Disable deprecation warnings that could indicate, for instance, a suspended library or \n",
    "# feature. These are more relevant to developers and very seldom to analysts.\n",
    "import matplotlib as mpl"
   ]
  },
  {
   "cell_type": "code",
   "execution_count": 418,
   "id": "bad7dabf",
   "metadata": {},
   "outputs": [
    {
     "name": "stdout",
     "output_type": "stream",
     "text": [
      "['Solarize_Light2', '_classic_test_patch', '_mpl-gallery', '_mpl-gallery-nogrid', 'bmh', 'classic', 'dark_background', 'fast', 'fivethirtyeight', 'ggplot', 'grayscale', 'seaborn-v0_8', 'seaborn-v0_8-bright', 'seaborn-v0_8-colorblind', 'seaborn-v0_8-dark', 'seaborn-v0_8-dark-palette', 'seaborn-v0_8-darkgrid', 'seaborn-v0_8-deep', 'seaborn-v0_8-muted', 'seaborn-v0_8-notebook', 'seaborn-v0_8-paper', 'seaborn-v0_8-pastel', 'seaborn-v0_8-poster', 'seaborn-v0_8-talk', 'seaborn-v0_8-ticks', 'seaborn-v0_8-white', 'seaborn-v0_8-whitegrid', 'tableau-colorblind10']\n"
     ]
    }
   ],
   "source": [
    "print(plt.style.available)"
   ]
  },
  {
   "cell_type": "code",
   "execution_count": 419,
   "id": "e715ca9e",
   "metadata": {},
   "outputs": [],
   "source": [
    "# Set plot style\n",
    "plt.style.use('seaborn-v0_8-whitegrid') # options to try: 'seaborn-v0_8-whitegrid', 'fivethirtyeight', 'bmh', or 'seaborn-v0_8-deep'"
   ]
  },
  {
   "cell_type": "markdown",
   "id": "3649d236",
   "metadata": {},
   "source": [
    "#### 2. Import data"
   ]
  },
  {
   "cell_type": "code",
   "execution_count": 420,
   "id": "ea5aa3b2",
   "metadata": {},
   "outputs": [],
   "source": [
    "path = r'/Users/rose/Documents/My Tableau Repository/Advance Analytics & Dashboard Design'"
   ]
  },
  {
   "cell_type": "code",
   "execution_count": 421,
   "id": "e86c2db9",
   "metadata": {},
   "outputs": [],
   "source": [
    "# Load the dataset \n",
    "df_listings_unsupervised_ml = pd.read_pickle(os.path.join(path, '02 Data', 'Prepared Data', 'listings_unsupervised_ml.pkl'))"
   ]
  },
  {
   "cell_type": "code",
   "execution_count": 422,
   "id": "37aa1c8e",
   "metadata": {},
   "outputs": [],
   "source": [
    "# Load the dataset \n",
    "df_listings_numeric_unsupervised_ml = pd.read_pickle(os.path.join(path, '02 Data','Prepared Data', 'listings_numeric_unsupervised_ml.pkl'))"
   ]
  },
  {
   "cell_type": "code",
   "execution_count": 423,
   "id": "ea2576db",
   "metadata": {},
   "outputs": [],
   "source": [
    "# Load the excel dataset\n",
    "full_path = path + '/02 Data/Original Data/TouristNationality.xlsx'\n",
    "\n",
    "airbnb_timeseries = pd.read_excel(full_path, sheet_name='NoOfVisitors')"
   ]
  },
  {
   "cell_type": "code",
   "execution_count": 424,
   "id": "e4bc9f14",
   "metadata": {},
   "outputs": [],
   "source": [
    "# Configure API key \n",
    "quandl.ApiConfig.api_key = 'k9S7J6_XDdsis1ppQL82'"
   ]
  },
  {
   "cell_type": "code",
   "execution_count": 425,
   "id": "66566489",
   "metadata": {},
   "outputs": [
    {
     "data": {
      "text/html": [
       "<div>\n",
       "<style scoped>\n",
       "    .dataframe tbody tr th:only-of-type {\n",
       "        vertical-align: middle;\n",
       "    }\n",
       "\n",
       "    .dataframe tbody tr th {\n",
       "        vertical-align: top;\n",
       "    }\n",
       "\n",
       "    .dataframe thead th {\n",
       "        text-align: right;\n",
       "    }\n",
       "</style>\n",
       "<table border=\"1\" class=\"dataframe\">\n",
       "  <thead>\n",
       "    <tr style=\"text-align: right;\">\n",
       "      <th></th>\n",
       "      <th># of visitors</th>\n",
       "      <th>2013</th>\n",
       "      <th>2014</th>\n",
       "      <th>2015</th>\n",
       "      <th>2016</th>\n",
       "      <th>2017</th>\n",
       "      <th>2018</th>\n",
       "      <th>2019</th>\n",
       "      <th>2020</th>\n",
       "      <th>2021</th>\n",
       "      <th>2022</th>\n",
       "    </tr>\n",
       "  </thead>\n",
       "  <tbody>\n",
       "    <tr>\n",
       "      <th>0</th>\n",
       "      <td>Foreigners</td>\n",
       "      <td>36828475</td>\n",
       "      <td>48072626</td>\n",
       "      <td>59061977</td>\n",
       "      <td>68399860</td>\n",
       "      <td>63045754</td>\n",
       "      <td>65292492</td>\n",
       "      <td>70899043</td>\n",
       "      <td>3140049</td>\n",
       "      <td>1492657</td>\n",
       "      <td>3392469</td>\n",
       "    </tr>\n",
       "    <tr>\n",
       "      <th>1</th>\n",
       "      <td>Japanese</td>\n",
       "      <td>994518773</td>\n",
       "      <td>985671330</td>\n",
       "      <td>1021639827</td>\n",
       "      <td>1044526146</td>\n",
       "      <td>1084119193</td>\n",
       "      <td>1097994322</td>\n",
       "      <td>1138296900</td>\n",
       "      <td>640261324</td>\n",
       "      <td>659202013</td>\n",
       "      <td>823539008</td>\n",
       "    </tr>\n",
       "    <tr>\n",
       "      <th>2</th>\n",
       "      <td>Total</td>\n",
       "      <td>1031347248</td>\n",
       "      <td>1033743956</td>\n",
       "      <td>1080701804</td>\n",
       "      <td>1112926006</td>\n",
       "      <td>1147164947</td>\n",
       "      <td>1163286814</td>\n",
       "      <td>1209195943</td>\n",
       "      <td>643401373</td>\n",
       "      <td>660694670</td>\n",
       "      <td>826931477</td>\n",
       "    </tr>\n",
       "  </tbody>\n",
       "</table>\n",
       "</div>"
      ],
      "text/plain": [
       "  # of visitors        2013        2014        2015        2016        2017  \\\n",
       "0    Foreigners    36828475    48072626    59061977    68399860    63045754   \n",
       "1      Japanese   994518773   985671330  1021639827  1044526146  1084119193   \n",
       "2         Total  1031347248  1033743956  1080701804  1112926006  1147164947   \n",
       "\n",
       "         2018        2019       2020       2021       2022  \n",
       "0    65292492    70899043    3140049    1492657    3392469  \n",
       "1  1097994322  1138296900  640261324  659202013  823539008  \n",
       "2  1163286814  1209195943  643401373  660694670  826931477  "
      ]
     },
     "execution_count": 425,
     "metadata": {},
     "output_type": "execute_result"
    }
   ],
   "source": [
    "airbnb_timeseries.head()"
   ]
  },
  {
   "cell_type": "code",
   "execution_count": 426,
   "id": "c8caa20f",
   "metadata": {},
   "outputs": [
    {
     "data": {
      "text/plain": [
       "pandas.core.frame.DataFrame"
      ]
     },
     "execution_count": 426,
     "metadata": {},
     "output_type": "execute_result"
    }
   ],
   "source": [
    "type(airbnb_timeseries)"
   ]
  },
  {
   "cell_type": "code",
   "execution_count": 427,
   "id": "f9da1d76",
   "metadata": {},
   "outputs": [
    {
     "data": {
      "text/plain": [
       "(3, 11)"
      ]
     },
     "execution_count": 427,
     "metadata": {},
     "output_type": "execute_result"
    }
   ],
   "source": [
    "airbnb_timeseries.shape"
   ]
  },
  {
   "cell_type": "code",
   "execution_count": 428,
   "id": "0407580d",
   "metadata": {},
   "outputs": [
    {
     "data": {
      "text/plain": [
       "Index(['# of visitors', 2013, 2014, 2015, 2016, 2017, 2018, 2019, 2020, 2021,\n",
       "       2022],\n",
       "      dtype='object')"
      ]
     },
     "execution_count": 428,
     "metadata": {},
     "output_type": "execute_result"
    }
   ],
   "source": [
    "airbnb_timeseries.columns"
   ]
  },
  {
   "cell_type": "code",
   "execution_count": 429,
   "id": "4955bf96",
   "metadata": {},
   "outputs": [
    {
     "name": "stdout",
     "output_type": "stream",
     "text": [
      "<class 'pandas.core.frame.DataFrame'>\n",
      "RangeIndex: 3 entries, 0 to 2\n",
      "Data columns (total 11 columns):\n",
      " #   Column         Non-Null Count  Dtype \n",
      "---  ------         --------------  ----- \n",
      " 0   # of visitors  3 non-null      object\n",
      " 1   2013           3 non-null      int64 \n",
      " 2   2014           3 non-null      int64 \n",
      " 3   2015           3 non-null      int64 \n",
      " 4   2016           3 non-null      int64 \n",
      " 5   2017           3 non-null      int64 \n",
      " 6   2018           3 non-null      int64 \n",
      " 7   2019           3 non-null      int64 \n",
      " 8   2020           3 non-null      int64 \n",
      " 9   2021           3 non-null      int64 \n",
      " 10  2022           3 non-null      int64 \n",
      "dtypes: int64(10), object(1)\n",
      "memory usage: 396.0+ bytes\n"
     ]
    }
   ],
   "source": [
    "airbnb_timeseries.info()"
   ]
  },
  {
   "cell_type": "code",
   "execution_count": 430,
   "id": "a35aabbb",
   "metadata": {},
   "outputs": [
    {
     "ename": "KeyError",
     "evalue": "\"None of ['Year'] are in the columns\"",
     "output_type": "error",
     "traceback": [
      "\u001b[0;31m---------------------------------------------------------------------------\u001b[0m",
      "\u001b[0;31mKeyError\u001b[0m                                  Traceback (most recent call last)",
      "\u001b[0;32m/var/folders/3d/n4rd9d4920lcv99lmvhn9ghr0000gp/T/ipykernel_47803/1620635279.py\u001b[0m in \u001b[0;36m?\u001b[0;34m()\u001b[0m\n\u001b[0;32m----> 1\u001b[0;31m \u001b[0mairbnb_timeseries\u001b[0m \u001b[0;34m=\u001b[0m \u001b[0mairbnb_timeseries\u001b[0m\u001b[0;34m.\u001b[0m\u001b[0mset_index\u001b[0m\u001b[0;34m(\u001b[0m\u001b[0;34m'Year'\u001b[0m\u001b[0;34m)\u001b[0m\u001b[0;34m\u001b[0m\u001b[0;34m\u001b[0m\u001b[0m\n\u001b[0m",
      "\u001b[0;32m/opt/anaconda3/lib/python3.11/site-packages/pandas/core/frame.py\u001b[0m in \u001b[0;36m?\u001b[0;34m(self, keys, drop, append, inplace, verify_integrity)\u001b[0m\n\u001b[1;32m   5866\u001b[0m                     \u001b[0;32mif\u001b[0m \u001b[0;32mnot\u001b[0m \u001b[0mfound\u001b[0m\u001b[0;34m:\u001b[0m\u001b[0;34m\u001b[0m\u001b[0;34m\u001b[0m\u001b[0m\n\u001b[1;32m   5867\u001b[0m                         \u001b[0mmissing\u001b[0m\u001b[0;34m.\u001b[0m\u001b[0mappend\u001b[0m\u001b[0;34m(\u001b[0m\u001b[0mcol\u001b[0m\u001b[0;34m)\u001b[0m\u001b[0;34m\u001b[0m\u001b[0;34m\u001b[0m\u001b[0m\n\u001b[1;32m   5868\u001b[0m \u001b[0;34m\u001b[0m\u001b[0m\n\u001b[1;32m   5869\u001b[0m         \u001b[0;32mif\u001b[0m \u001b[0mmissing\u001b[0m\u001b[0;34m:\u001b[0m\u001b[0;34m\u001b[0m\u001b[0;34m\u001b[0m\u001b[0m\n\u001b[0;32m-> 5870\u001b[0;31m             \u001b[0;32mraise\u001b[0m \u001b[0mKeyError\u001b[0m\u001b[0;34m(\u001b[0m\u001b[0;34mf\"None of {missing} are in the columns\"\u001b[0m\u001b[0;34m)\u001b[0m\u001b[0;34m\u001b[0m\u001b[0;34m\u001b[0m\u001b[0m\n\u001b[0m\u001b[1;32m   5871\u001b[0m \u001b[0;34m\u001b[0m\u001b[0m\n\u001b[1;32m   5872\u001b[0m         \u001b[0;32mif\u001b[0m \u001b[0minplace\u001b[0m\u001b[0;34m:\u001b[0m\u001b[0;34m\u001b[0m\u001b[0;34m\u001b[0m\u001b[0m\n\u001b[1;32m   5873\u001b[0m             \u001b[0mframe\u001b[0m \u001b[0;34m=\u001b[0m \u001b[0mself\u001b[0m\u001b[0;34m\u001b[0m\u001b[0;34m\u001b[0m\u001b[0m\n",
      "\u001b[0;31mKeyError\u001b[0m: \"None of ['Year'] are in the columns\""
     ]
    }
   ],
   "source": [
    "airbnb_timeseries = airbnb_timeseries.set_index('Year')"
   ]
  },
  {
   "cell_type": "code",
   "execution_count": null,
   "id": "c230dc86",
   "metadata": {},
   "outputs": [],
   "source": [
    "airbnb_timeseries.head()"
   ]
  },
  {
   "cell_type": "code",
   "execution_count": null,
   "id": "fc1efacc",
   "metadata": {},
   "outputs": [],
   "source": [
    "airbnb_timeseries.columns"
   ]
  },
  {
   "cell_type": "code",
   "execution_count": null,
   "id": "42602ff3",
   "metadata": {
    "scrolled": true
   },
   "outputs": [],
   "source": [
    "plt.figure(figsize=(8,4), dpi=100)\n",
    "plt.plot(airbnb_timeseries.index, airbnb_timeseries['Number of visitors'], marker='o', linestyle='-')\n",
    "plt.title('Plot of Data with Date on X-axis')\n",
    "plt.xlabel('Date')\n",
    "plt.ylabel('Number of visitors')\n",
    "plt.grid(True)\n",
    "plt.show()"
   ]
  },
  {
   "cell_type": "markdown",
   "id": "9749316a",
   "metadata": {},
   "source": [
    "#### 3. Subsetting, wrangling, and cleaning time-series data"
   ]
  },
  {
   "cell_type": "code",
   "execution_count": null,
   "id": "ba7617bc",
   "metadata": {},
   "outputs": [],
   "source": [
    "# Reset index so that you can use the \"Date\" column as a filter\n",
    "airbnb_timeseries_2 = airbnb_timeseries.reset_index()"
   ]
  },
  {
   "cell_type": "code",
   "execution_count": null,
   "id": "42cf8845",
   "metadata": {},
   "outputs": [],
   "source": [
    "airbnb_timeseries_2.head()"
   ]
  },
  {
   "cell_type": "code",
   "execution_count": null,
   "id": "e4ded1d6",
   "metadata": {},
   "outputs": [],
   "source": [
    "# Assuming 'Year' column is of integer type (int64)\n",
    "data_sub = airbnb_timeseries_2.loc[(airbnb_timeseries_2['Year'] >= 2013) & (airbnb_timeseries_2['Year'] <= 2017)]\n"
   ]
  },
  {
   "cell_type": "code",
   "execution_count": null,
   "id": "e9299ef0",
   "metadata": {},
   "outputs": [],
   "source": [
    "data_sub.shape"
   ]
  },
  {
   "cell_type": "code",
   "execution_count": null,
   "id": "16b500f9",
   "metadata": {},
   "outputs": [],
   "source": [
    "data_sub.head()"
   ]
  },
  {
   "cell_type": "code",
   "execution_count": null,
   "id": "0f957d0b",
   "metadata": {},
   "outputs": [],
   "source": [
    "# Convert 'Year' to datetime with format specified\n",
    "data_sub['Year'] = pd.to_datetime(data_sub['Year'], format='%Y')  # Assuming 'Year' is in YYYY format\n",
    "\n",
    "# Set 'Year' as the index\n",
    "data_sub.set_index('Year', inplace=True)\n",
    "\n",
    "# Verify the index to ensure correct years are present\n",
    "print(data_sub.index)  # This should show the index (years) present in your DataFrame\n",
    "\n",
    "# Now 'Year' is the index of the DataFrame\n",
    "print(data_sub.head())"
   ]
  },
  {
   "cell_type": "code",
   "execution_count": null,
   "id": "d2a3197c",
   "metadata": {},
   "outputs": [],
   "source": [
    "# Plot the new data set\n",
    "\n",
    "plt.figure(figsize=(8,4), dpi=100)\n",
    "plt.plot(data_sub)"
   ]
  },
  {
   "cell_type": "code",
   "execution_count": null,
   "id": "9cd3d8e9",
   "metadata": {},
   "outputs": [],
   "source": [
    "# Check for missing values (you shouldn't have any)\n",
    "\n",
    "data_sub.isnull().sum() "
   ]
  },
  {
   "cell_type": "code",
   "execution_count": null,
   "id": "aa041dc5",
   "metadata": {},
   "outputs": [],
   "source": [
    "# Check for duplicates\n",
    "\n",
    "dups = data_sub.duplicated()\n",
    "dups.sum()"
   ]
  },
  {
   "cell_type": "markdown",
   "id": "b55f38a6",
   "metadata": {},
   "source": [
    "#### 4. Time-series analysis: decomposition"
   ]
  },
  {
   "cell_type": "code",
   "execution_count": null,
   "id": "ae835150",
   "metadata": {},
   "outputs": [],
   "source": [
    "data_sub.head()"
   ]
  },
  {
   "cell_type": "code",
   "execution_count": null,
   "id": "f82356a9",
   "metadata": {},
   "outputs": [],
   "source": [
    "data_sub.head()"
   ]
  },
  {
   "cell_type": "code",
   "execution_count": null,
   "id": "822f4889",
   "metadata": {},
   "outputs": [],
   "source": [
    "# Sort the data by date in ascending order\n",
    "data_sub_sorted = data_sub.sort_index()"
   ]
  },
  {
   "cell_type": "code",
   "execution_count": null,
   "id": "24c7f768",
   "metadata": {},
   "outputs": [],
   "source": [
    "# data_sub.set_index('Year', inplace=True)  \n",
    "\n",
    "# Skip decomposition and work directly with the time series data\n",
    "# Example: Plotting the raw time series\n",
    "import matplotlib.pyplot as plt\n",
    "\n",
    "plt.figure(figsize=(8, 4))\n",
    "plt.plot(data_sub.index, data_sub['Number of visitors'], marker='o', linestyle='-')\n",
    "plt.title('Raw Time Series')\n",
    "plt.xlabel('Year')\n",
    "plt.ylabel('Number of visitors')\n",
    "plt.grid(True)\n",
    "plt.show()\n"
   ]
  },
  {
   "cell_type": "code",
   "execution_count": null,
   "id": "4601c017",
   "metadata": {},
   "outputs": [],
   "source": [
    "# Decompose the time series using an additive model\n",
    "\n",
    "decomposition = sm.tsa.seasonal_decompose(data_sub_sorted['Number of visitors'], model='additive')\n",
    "\n",
    "# Plot the decomposition\n",
    "decomposition.plot()\n",
    "plt.show()"
   ]
  },
  {
   "cell_type": "code",
   "execution_count": null,
   "id": "2d15d2b3",
   "metadata": {},
   "outputs": [],
   "source": [
    "from pylab import rcParams # This will define a fixed size for all special charts.\n",
    "\n",
    "rcParams['figure.figsize'] = 8, 5"
   ]
  },
  {
   "cell_type": "code",
   "execution_count": null,
   "id": "8a2c0d19",
   "metadata": {},
   "outputs": [],
   "source": [
    "# Plot the separate components\n",
    "\n",
    "decomposition.plot()\n",
    "plt.show()"
   ]
  },
  {
   "cell_type": "code",
   "execution_count": null,
   "id": "0a232a1c",
   "metadata": {},
   "outputs": [],
   "source": [
    "# The adfuller() function will import from the model from statsmodels for the test; however, running it will only return \n",
    "# an array of numbers. This is why you need to also define a function that prints the correct output from that array.\n",
    "\n",
    "from statsmodels.tsa.stattools import adfuller # Import the adfuller() function\n",
    "\n",
    "def dickey_fuller(timeseries): # Define the function\n",
    "    # Perform the Dickey-Fuller test:\n",
    "    print ('Dickey-Fuller Stationarity test:')\n",
    "    test = adfuller(timeseries, autolag='AIC')\n",
    "    result = pd.Series(test[0:4], index=['Test Statistic','p-value','Number of Lags Used','Number of Observations Used'])\n",
    "    for key,value in test[4].items():\n",
    "       result['Critical Value (%s)'%key] = value\n",
    "    print (result)\n",
    "\n",
    "# Apply the test using the function on the time series\n",
    "dickey_fuller(data_sub_sorted['Number of visitors'])"
   ]
  },
  {
   "cell_type": "markdown",
   "id": "45f31571",
   "metadata": {},
   "source": [
    "The test statistic exceeds the critical value, which signifies presence of unit root. As a result,  we can't reject the null hypothesis and can conclude that this is non-stationary."
   ]
  },
  {
   "cell_type": "code",
   "execution_count": null,
   "id": "03c59744",
   "metadata": {},
   "outputs": [],
   "source": [
    "# Convert the column to a pandas Series if it's not already\n",
    "ts_series = data_sub_sorted['Number of visitors']\n",
    "\n",
    "# Plot the autocorrelation function\n",
    "plot_acf(ts_series)\n",
    "plt.show()"
   ]
  },
  {
   "cell_type": "markdown",
   "id": "763cc322",
   "metadata": {},
   "source": [
    "The autocorrelation map above shows one vertical line edging outside the confidence interval indicating non-stationarity and therefore validating the earlier results from the Dickey-Fuller test."
   ]
  },
  {
   "cell_type": "markdown",
   "id": "32bfeaa1",
   "metadata": {},
   "source": [
    "#### 5. Stationarizing the Consumer Price Index"
   ]
  },
  {
   "cell_type": "code",
   "execution_count": null,
   "id": "77d0fb2d",
   "metadata": {},
   "outputs": [],
   "source": [
    "data_diff = data_sub - data_sub_sorted.shift(1) # The df.shift(1) function turns the observation to t-1, making the whole thing t - (t -1)"
   ]
  },
  {
   "cell_type": "code",
   "execution_count": null,
   "id": "2485d622",
   "metadata": {},
   "outputs": [],
   "source": [
    "data_diff.dropna(inplace = True) # Here, you remove the missing values that came about as a result of the differencing. \n",
    "# You need to remove these or you won't be able to run the Dickey-Fuller test."
   ]
  },
  {
   "cell_type": "code",
   "execution_count": null,
   "id": "35db5995",
   "metadata": {},
   "outputs": [],
   "source": [
    "data_diff.head()"
   ]
  },
  {
   "cell_type": "code",
   "execution_count": null,
   "id": "5bd5772e",
   "metadata": {},
   "outputs": [],
   "source": [
    "data_diff.columns"
   ]
  },
  {
   "cell_type": "code",
   "execution_count": null,
   "id": "5b3b8868",
   "metadata": {},
   "outputs": [],
   "source": [
    "# Check out what the differencing did to the time-series curve\n",
    "\n",
    "plt.figure(figsize=(8,5), dpi=100)\n",
    "plt.plot(data_diff)"
   ]
  },
  {
   "cell_type": "code",
   "execution_count": null,
   "id": "833f205a",
   "metadata": {},
   "outputs": [],
   "source": [
    "ts_series = data_diff['Number of visitors']\n",
    "\n",
    "# Perform the Dickey-Fuller test\n",
    "result = adfuller(ts_series)"
   ]
  },
  {
   "cell_type": "markdown",
   "id": "457348c8",
   "metadata": {},
   "source": [
    "These 2nd results of the Dickey-Fuller test now indicate that the time series is stationary. The test statistic is now smaller than all the critical values. Furthermore, the low p-value indicates a significant test result, providing strong evidence to reject the null hypothesis of a unit root (non-stationarity), further supporting the conclusion of stationarity."
   ]
  },
  {
   "cell_type": "code",
   "execution_count": null,
   "id": "70df4de9",
   "metadata": {},
   "outputs": [],
   "source": [
    "plot_acf(ts_series)\n",
    "plt.show()"
   ]
  },
  {
   "cell_type": "code",
   "execution_count": null,
   "id": "869da863",
   "metadata": {},
   "outputs": [],
   "source": []
  },
  {
   "cell_type": "code",
   "execution_count": null,
   "id": "5d3ce434",
   "metadata": {},
   "outputs": [],
   "source": []
  }
 ],
 "metadata": {
  "kernelspec": {
   "display_name": "Python 3 (ipykernel)",
   "language": "python",
   "name": "python3"
  },
  "language_info": {
   "codemirror_mode": {
    "name": "ipython",
    "version": 3
   },
   "file_extension": ".py",
   "mimetype": "text/x-python",
   "name": "python",
   "nbconvert_exporter": "python",
   "pygments_lexer": "ipython3",
   "version": "3.11.7"
  }
 },
 "nbformat": 4,
 "nbformat_minor": 5
}
